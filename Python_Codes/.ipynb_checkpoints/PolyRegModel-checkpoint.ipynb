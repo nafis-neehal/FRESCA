{
 "cells": [
  {
   "cell_type": "code",
   "execution_count": 1,
   "metadata": {},
   "outputs": [],
   "source": [
    "import numpy as np\n",
    "import pandas as pd\n",
    "import matplotlib.pyplot as plt\n",
    "from scipy.optimize import curve_fit"
   ]
  },
  {
   "cell_type": "code",
   "execution_count": 2,
   "metadata": {},
   "outputs": [
    {
     "data": {
      "text/html": [
       "<div>\n",
       "<style scoped>\n",
       "    .dataframe tbody tr th:only-of-type {\n",
       "        vertical-align: middle;\n",
       "    }\n",
       "\n",
       "    .dataframe tbody tr th {\n",
       "        vertical-align: top;\n",
       "    }\n",
       "\n",
       "    .dataframe thead th {\n",
       "        text-align: right;\n",
       "    }\n",
       "</style>\n",
       "<table border=\"1\" class=\"dataframe\">\n",
       "  <thead>\n",
       "    <tr style=\"text-align: right;\">\n",
       "      <th></th>\n",
       "      <th>Seed</th>\n",
       "      <th>TA_Size</th>\n",
       "      <th>CC_Size</th>\n",
       "      <th>SC_Size</th>\n",
       "      <th>Controls</th>\n",
       "      <th>CLD</th>\n",
       "      <th>SMD</th>\n",
       "      <th>SqDeviation</th>\n",
       "    </tr>\n",
       "  </thead>\n",
       "  <tbody>\n",
       "    <tr>\n",
       "      <th>0</th>\n",
       "      <td>1</td>\n",
       "      <td>4000</td>\n",
       "      <td>500.0</td>\n",
       "      <td>3500</td>\n",
       "      <td>BOTH</td>\n",
       "      <td>0.0336</td>\n",
       "      <td>0.037848</td>\n",
       "      <td>0.028164</td>\n",
       "    </tr>\n",
       "    <tr>\n",
       "      <th>1</th>\n",
       "      <td>1</td>\n",
       "      <td>4000</td>\n",
       "      <td>1000.0</td>\n",
       "      <td>3000</td>\n",
       "      <td>BOTH</td>\n",
       "      <td>0.0434</td>\n",
       "      <td>0.038231</td>\n",
       "      <td>0.037188</td>\n",
       "    </tr>\n",
       "    <tr>\n",
       "      <th>2</th>\n",
       "      <td>1</td>\n",
       "      <td>4000</td>\n",
       "      <td>2000.0</td>\n",
       "      <td>2000</td>\n",
       "      <td>BOTH</td>\n",
       "      <td>0.0102</td>\n",
       "      <td>0.037155</td>\n",
       "      <td>0.032392</td>\n",
       "    </tr>\n",
       "  </tbody>\n",
       "</table>\n",
       "</div>"
      ],
      "text/plain": [
       "   Seed  TA_Size  CC_Size  SC_Size Controls     CLD       SMD  SqDeviation\n",
       "0     1     4000    500.0     3500     BOTH  0.0336  0.037848     0.028164\n",
       "1     1     4000   1000.0     3000     BOTH  0.0434  0.038231     0.037188\n",
       "2     1     4000   2000.0     2000     BOTH  0.0102  0.037155     0.032392"
      ]
     },
     "execution_count": 2,
     "metadata": {},
     "output_type": "execute_result"
    }
   ],
   "source": [
    "data = pd.read_csv(\"../Data/Results/M6/ALLHAT_Results/Regression/final_df.csv\")\n",
    "data[\"CC_Size\"] = data['CC_Size'].astype(float)\n",
    "data.head(3)"
   ]
  },
  {
   "cell_type": "code",
   "execution_count": 4,
   "metadata": {},
   "outputs": [],
   "source": [
    "# Load your dataset\n",
    "# Replace 'X' and 'y' with your input features and target variable\n",
    "# X should be a DataFrame with 3 columns, and y should be a Series\n",
    "# Example: X = pd.read_csv('data.csv', usecols=['X1', 'X2', 'X3'])\n",
    "#          y = pd.read_csv('data.csv', usecols=['Y'])\n",
    "\n",
    "X1 = data[[\"CC_Size\"]]\n",
    "X2 = data[[\"CLD\"]]\n",
    "X3 = data[[\"SMD\"]]\n",
    "X = data[[\"CC_Size\", \"CLD\", \"SMD\"]]\n",
    "Y = data[[\"SqDeviation\"]]\n",
    "\n",
    "# Convert the data to numpy arrays\n",
    "X1 = X1.to_numpy()\n",
    "X2 = X2.to_numpy()\n",
    "X3 = X3.to_numpy()\n",
    "X_data = X.to_numpy()\n",
    "y_data = Y.to_numpy()"
   ]
  },
  {
   "cell_type": "code",
   "execution_count": 12,
   "metadata": {},
   "outputs": [
    {
     "data": {
      "text/plain": [
       "[1.0, 1.0, 1.0, 1.0, 1.0, 1.0]"
      ]
     },
     "execution_count": 12,
     "metadata": {},
     "output_type": "execute_result"
    }
   ],
   "source": [
    "# Define the polynomial function to fit\n",
    "def polynomial_function(X,e0,e1,e2):\n",
    "    x1,x2,x3 = X\n",
    "    print(x1.shape, x2.shape, x3.shape, c0, c1, c2, e0, e1, e2)\n",
    "    return ((x1**e0 + x2**e1 + x3**e2).astype(float))\n",
    "\n",
    "# Initial guess for the polynomial coefficients\n",
    "initial_guess = [1.0,1.0,1.0]\n",
    "initial_guess\n"
   ]
  },
  {
   "cell_type": "code",
   "execution_count": 13,
   "metadata": {},
   "outputs": [
    {
     "name": "stdout",
     "output_type": "stream",
     "text": [
      "(795, 1) (795, 1) (795, 1) 1.0 1.0 1.0 1.0 1.0 1.0\n",
      "(795, 1) (795, 1) (795, 1) 1.0 1.0 1.0 1.0 1.0 1.0\n"
     ]
    },
    {
     "ename": "ValueError",
     "evalue": "object too deep for desired array",
     "output_type": "error",
     "traceback": [
      "\u001b[0;31m---------------------------------------------------------------------------\u001b[0m",
      "\u001b[0;31mValueError\u001b[0m                                Traceback (most recent call last)",
      "\u001b[0;31mValueError\u001b[0m: object too deep for desired array"
     ]
    },
    {
     "ename": "error",
     "evalue": "Result from function call is not a proper array of floats.",
     "output_type": "error",
     "traceback": [
      "\u001b[0;31m---------------------------------------------------------------------------\u001b[0m",
      "\u001b[0;31merror\u001b[0m                                     Traceback (most recent call last)",
      "Input \u001b[0;32mIn [13]\u001b[0m, in \u001b[0;36m<cell line: 2>\u001b[0;34m()\u001b[0m\n\u001b[1;32m      1\u001b[0m \u001b[38;5;66;03m# Fit the polynomial model using curve_fit\u001b[39;00m\n\u001b[0;32m----> 2\u001b[0m params, covariance \u001b[38;5;241m=\u001b[39m \u001b[43mcurve_fit\u001b[49m\u001b[43m(\u001b[49m\u001b[43mpolynomial_function\u001b[49m\u001b[43m,\u001b[49m\u001b[43m \u001b[49m\u001b[43m(\u001b[49m\u001b[43mX1\u001b[49m\u001b[43m,\u001b[49m\u001b[43mX2\u001b[49m\u001b[43m,\u001b[49m\u001b[43mX3\u001b[49m\u001b[43m)\u001b[49m\u001b[43m,\u001b[49m\u001b[43m \u001b[49m\u001b[43my_data\u001b[49m\u001b[43m,\u001b[49m\u001b[43m \u001b[49m\u001b[43mp0\u001b[49m\u001b[38;5;241;43m=\u001b[39;49m\u001b[43minitial_guess\u001b[49m\u001b[43m)\u001b[49m\n",
      "File \u001b[0;32m~/.conda/envs/nafis_env/lib/python3.10/site-packages/scipy/optimize/_minpack_py.py:789\u001b[0m, in \u001b[0;36mcurve_fit\u001b[0;34m(f, xdata, ydata, p0, sigma, absolute_sigma, check_finite, bounds, method, jac, **kwargs)\u001b[0m\n\u001b[1;32m    787\u001b[0m \u001b[38;5;66;03m# Remove full_output from kwargs, otherwise we're passing it in twice.\u001b[39;00m\n\u001b[1;32m    788\u001b[0m return_full \u001b[38;5;241m=\u001b[39m kwargs\u001b[38;5;241m.\u001b[39mpop(\u001b[38;5;124m'\u001b[39m\u001b[38;5;124mfull_output\u001b[39m\u001b[38;5;124m'\u001b[39m, \u001b[38;5;28;01mFalse\u001b[39;00m)\n\u001b[0;32m--> 789\u001b[0m res \u001b[38;5;241m=\u001b[39m \u001b[43mleastsq\u001b[49m\u001b[43m(\u001b[49m\u001b[43mfunc\u001b[49m\u001b[43m,\u001b[49m\u001b[43m \u001b[49m\u001b[43mp0\u001b[49m\u001b[43m,\u001b[49m\u001b[43m \u001b[49m\u001b[43mDfun\u001b[49m\u001b[38;5;241;43m=\u001b[39;49m\u001b[43mjac\u001b[49m\u001b[43m,\u001b[49m\u001b[43m \u001b[49m\u001b[43mfull_output\u001b[49m\u001b[38;5;241;43m=\u001b[39;49m\u001b[38;5;241;43m1\u001b[39;49m\u001b[43m,\u001b[49m\u001b[43m \u001b[49m\u001b[38;5;241;43m*\u001b[39;49m\u001b[38;5;241;43m*\u001b[39;49m\u001b[43mkwargs\u001b[49m\u001b[43m)\u001b[49m\n\u001b[1;32m    790\u001b[0m popt, pcov, infodict, errmsg, ier \u001b[38;5;241m=\u001b[39m res\n\u001b[1;32m    791\u001b[0m ysize \u001b[38;5;241m=\u001b[39m \u001b[38;5;28mlen\u001b[39m(infodict[\u001b[38;5;124m'\u001b[39m\u001b[38;5;124mfvec\u001b[39m\u001b[38;5;124m'\u001b[39m])\n",
      "File \u001b[0;32m~/.conda/envs/nafis_env/lib/python3.10/site-packages/scipy/optimize/_minpack_py.py:423\u001b[0m, in \u001b[0;36mleastsq\u001b[0;34m(func, x0, args, Dfun, full_output, col_deriv, ftol, xtol, gtol, maxfev, epsfcn, factor, diag)\u001b[0m\n\u001b[1;32m    421\u001b[0m     \u001b[38;5;28;01mif\u001b[39;00m maxfev \u001b[38;5;241m==\u001b[39m \u001b[38;5;241m0\u001b[39m:\n\u001b[1;32m    422\u001b[0m         maxfev \u001b[38;5;241m=\u001b[39m \u001b[38;5;241m200\u001b[39m\u001b[38;5;241m*\u001b[39m(n \u001b[38;5;241m+\u001b[39m \u001b[38;5;241m1\u001b[39m)\n\u001b[0;32m--> 423\u001b[0m     retval \u001b[38;5;241m=\u001b[39m \u001b[43m_minpack\u001b[49m\u001b[38;5;241;43m.\u001b[39;49m\u001b[43m_lmdif\u001b[49m\u001b[43m(\u001b[49m\u001b[43mfunc\u001b[49m\u001b[43m,\u001b[49m\u001b[43m \u001b[49m\u001b[43mx0\u001b[49m\u001b[43m,\u001b[49m\u001b[43m \u001b[49m\u001b[43margs\u001b[49m\u001b[43m,\u001b[49m\u001b[43m \u001b[49m\u001b[43mfull_output\u001b[49m\u001b[43m,\u001b[49m\u001b[43m \u001b[49m\u001b[43mftol\u001b[49m\u001b[43m,\u001b[49m\u001b[43m \u001b[49m\u001b[43mxtol\u001b[49m\u001b[43m,\u001b[49m\n\u001b[1;32m    424\u001b[0m \u001b[43m                             \u001b[49m\u001b[43mgtol\u001b[49m\u001b[43m,\u001b[49m\u001b[43m \u001b[49m\u001b[43mmaxfev\u001b[49m\u001b[43m,\u001b[49m\u001b[43m \u001b[49m\u001b[43mepsfcn\u001b[49m\u001b[43m,\u001b[49m\u001b[43m \u001b[49m\u001b[43mfactor\u001b[49m\u001b[43m,\u001b[49m\u001b[43m \u001b[49m\u001b[43mdiag\u001b[49m\u001b[43m)\u001b[49m\n\u001b[1;32m    425\u001b[0m \u001b[38;5;28;01melse\u001b[39;00m:\n\u001b[1;32m    426\u001b[0m     \u001b[38;5;28;01mif\u001b[39;00m col_deriv:\n",
      "\u001b[0;31merror\u001b[0m: Result from function call is not a proper array of floats."
     ]
    }
   ],
   "source": [
    "# Fit the polynomial model using curve_fit\n",
    "params, covariance = curve_fit(polynomial_function, (X1,X2,X3), y_data, p0=initial_guess)"
   ]
  },
  {
   "cell_type": "code",
   "execution_count": 36,
   "metadata": {},
   "outputs": [
    {
     "ename": "NameError",
     "evalue": "name 'params' is not defined",
     "output_type": "error",
     "traceback": [
      "\u001b[0;31m---------------------------------------------------------------------------\u001b[0m",
      "\u001b[0;31mNameError\u001b[0m                                 Traceback (most recent call last)",
      "Input \u001b[0;32mIn [36]\u001b[0m, in \u001b[0;36m<cell line: 2>\u001b[0;34m()\u001b[0m\n\u001b[1;32m      1\u001b[0m \u001b[38;5;66;03m# Extract the coefficients\u001b[39;00m\n\u001b[0;32m----> 2\u001b[0m coefficients \u001b[38;5;241m=\u001b[39m \u001b[43mparams\u001b[49m[:\u001b[38;5;241m-\u001b[39m\u001b[38;5;241m1\u001b[39m]\n\u001b[1;32m      3\u001b[0m intercept \u001b[38;5;241m=\u001b[39m params[\u001b[38;5;241m-\u001b[39m\u001b[38;5;241m1\u001b[39m]\n\u001b[1;32m      5\u001b[0m \u001b[38;5;66;03m# Make predictions\u001b[39;00m\n",
      "\u001b[0;31mNameError\u001b[0m: name 'params' is not defined"
     ]
    }
   ],
   "source": [
    "# Extract the coefficients\n",
    "coefficients = params[:-1]\n",
    "intercept = params[-1]\n",
    "\n",
    "# Make predictions\n",
    "y_pred = polynomial_function(X_data.T, *params)\n",
    "\n",
    "# Calculate the R-squared value\n",
    "ss_total = ((y_data - np.mean(y_data))**2).sum()\n",
    "ss_residual = ((y_data - y_pred)**2).sum()\n",
    "r2 = 1 - (ss_residual / ss_total)\n",
    "\n",
    "# Print the coefficients and R-squared\n",
    "print(\"Coefficients:\", coefficients)\n",
    "print(\"Intercept:\", intercept)\n",
    "print(\"R-squared:\", r2)\n",
    "\n",
    "# Plot the data and the fitted curve (for 1D data only)\n",
    "if X_data.shape[1] == 1:\n",
    "    x_range = np.linspace(min(X_data), max(X_data), 100)\n",
    "    y_fit = polynomial_function(x_range, *params)\n",
    "    plt.scatter(X_data, y_data, label='Data')\n",
    "    plt.plot(x_range, y_fit, 'r', label='Fitted Curve')\n",
    "    plt.xlabel('X')\n",
    "    plt.ylabel('Y')\n",
    "    plt.legend()\n",
    "    plt.show()"
   ]
  },
  {
   "cell_type": "code",
   "execution_count": null,
   "metadata": {},
   "outputs": [],
   "source": []
  }
 ],
 "metadata": {
  "kernelspec": {
   "display_name": "Python [conda env:nafis_env]",
   "language": "python",
   "name": "conda-env-nafis_env-py"
  },
  "language_info": {
   "codemirror_mode": {
    "name": "ipython",
    "version": 3
   },
   "file_extension": ".py",
   "mimetype": "text/x-python",
   "name": "python",
   "nbconvert_exporter": "python",
   "pygments_lexer": "ipython3",
   "version": "3.10.4"
  }
 },
 "nbformat": 4,
 "nbformat_minor": 2
}
