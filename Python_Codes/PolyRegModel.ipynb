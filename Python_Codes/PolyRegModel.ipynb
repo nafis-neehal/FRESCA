{
 "cells": [
  {
   "cell_type": "code",
   "execution_count": 1,
   "metadata": {},
   "outputs": [],
   "source": [
    "import numpy as np\n",
    "import pandas as pd\n",
    "import matplotlib.pyplot as plt\n",
    "from scipy.optimize import curve_fit"
   ]
  },
  {
   "cell_type": "code",
   "execution_count": 2,
   "metadata": {},
   "outputs": [
    {
     "data": {
      "text/html": [
       "<div>\n",
       "<style scoped>\n",
       "    .dataframe tbody tr th:only-of-type {\n",
       "        vertical-align: middle;\n",
       "    }\n",
       "\n",
       "    .dataframe tbody tr th {\n",
       "        vertical-align: top;\n",
       "    }\n",
       "\n",
       "    .dataframe thead th {\n",
       "        text-align: right;\n",
       "    }\n",
       "</style>\n",
       "<table border=\"1\" class=\"dataframe\">\n",
       "  <thead>\n",
       "    <tr style=\"text-align: right;\">\n",
       "      <th></th>\n",
       "      <th>Seed</th>\n",
       "      <th>TA_Size</th>\n",
       "      <th>CC_Size</th>\n",
       "      <th>SC_Size</th>\n",
       "      <th>Controls</th>\n",
       "      <th>CLD</th>\n",
       "      <th>SMD</th>\n",
       "      <th>SqDeviation</th>\n",
       "    </tr>\n",
       "  </thead>\n",
       "  <tbody>\n",
       "    <tr>\n",
       "      <th>0</th>\n",
       "      <td>1</td>\n",
       "      <td>4000</td>\n",
       "      <td>500.0</td>\n",
       "      <td>3500</td>\n",
       "      <td>BOTH</td>\n",
       "      <td>0.0336</td>\n",
       "      <td>0.037848</td>\n",
       "      <td>0.028164</td>\n",
       "    </tr>\n",
       "    <tr>\n",
       "      <th>1</th>\n",
       "      <td>1</td>\n",
       "      <td>4000</td>\n",
       "      <td>1000.0</td>\n",
       "      <td>3000</td>\n",
       "      <td>BOTH</td>\n",
       "      <td>0.0434</td>\n",
       "      <td>0.038231</td>\n",
       "      <td>0.037188</td>\n",
       "    </tr>\n",
       "    <tr>\n",
       "      <th>2</th>\n",
       "      <td>1</td>\n",
       "      <td>4000</td>\n",
       "      <td>2000.0</td>\n",
       "      <td>2000</td>\n",
       "      <td>BOTH</td>\n",
       "      <td>0.0102</td>\n",
       "      <td>0.037155</td>\n",
       "      <td>0.032392</td>\n",
       "    </tr>\n",
       "  </tbody>\n",
       "</table>\n",
       "</div>"
      ],
      "text/plain": [
       "   Seed  TA_Size  CC_Size  SC_Size Controls     CLD       SMD  SqDeviation\n",
       "0     1     4000    500.0     3500     BOTH  0.0336  0.037848     0.028164\n",
       "1     1     4000   1000.0     3000     BOTH  0.0434  0.038231     0.037188\n",
       "2     1     4000   2000.0     2000     BOTH  0.0102  0.037155     0.032392"
      ]
     },
     "execution_count": 2,
     "metadata": {},
     "output_type": "execute_result"
    }
   ],
   "source": [
    "data = pd.read_csv(\"../Data/Results/M6/ALLHAT_Results/Regression/final_df.csv\")\n",
    "data[\"CC_Size\"] = data['CC_Size'].astype(float)\n",
    "data.head(3)"
   ]
  },
  {
   "cell_type": "code",
   "execution_count": 29,
   "metadata": {},
   "outputs": [],
   "source": [
    "# Load your dataset\n",
    "# Replace 'X' and 'y' with your input features and target variable\n",
    "# X should be a DataFrame with 3 columns, and y should be a Series\n",
    "# Example: X = pd.read_csv('data.csv', usecols=['X1', 'X2', 'X3'])\n",
    "#          y = pd.read_csv('data.csv', usecols=['Y'])\n",
    "\n",
    "X1 = data[[\"CC_Size\"]]\n",
    "X2 = data[[\"CLD\"]]\n",
    "X3 = data[[\"SMD\"]]\n",
    "X = data[[\"CC_Size\", \"CLD\", \"SMD\"]]\n",
    "Y = data[[\"SqDeviation\"]]\n",
    "\n",
    "# Convert the data to numpy arrays\n",
    "X1 = X1.to_numpy().flatten()\n",
    "X2 = X2.to_numpy().flatten()\n",
    "X3 = X3.to_numpy().flatten()\n",
    "X_data = X.to_numpy()\n",
    "y_data = Y.to_numpy().flatten()"
   ]
  },
  {
   "cell_type": "code",
   "execution_count": 36,
   "metadata": {},
   "outputs": [],
   "source": [
    "# Define the polynomial function to fit\n",
    "def polynomial_function(X,e0,e1,e2):\n",
    "    x1,x2,x3 = X\n",
    "    return ((x1**e0 + x2**e1 + x3**e2).astype(float))\n",
    "\n",
    "# # Initial guess for the polynomial coefficients\n",
    "# initial_guess = np.array([1.0,1.0,1.0])\n",
    "# initial_guess\n"
   ]
  },
  {
   "cell_type": "code",
   "execution_count": 37,
   "metadata": {},
   "outputs": [
    {
     "name": "stderr",
     "output_type": "stream",
     "text": [
      "/home/neehan/.conda/envs/nafis_env/lib/python3.10/site-packages/scipy/optimize/_minpack_py.py:833: OptimizeWarning: Covariance of the parameters could not be estimated\n",
      "  warnings.warn('Covariance of the parameters could not be estimated',\n"
     ]
    }
   ],
   "source": [
    "# Fit the polynomial model using curve_fit\n",
    "params, covariance = curve_fit(polynomial_function, (X1,X2,X3), y_data)"
   ]
  },
  {
   "cell_type": "code",
   "execution_count": 38,
   "metadata": {},
   "outputs": [
    {
     "data": {
      "text/plain": [
       "(array([-3.80221468e-01,  2.20071532e+04]), 766.2867575285063)"
      ]
     },
     "execution_count": 38,
     "metadata": {},
     "output_type": "execute_result"
    }
   ],
   "source": [
    "# Extract the coefficients\n",
    "coefficients = params[:-1]\n",
    "intercept = params[-1]\n",
    "\n",
    "coefficients, intercept"
   ]
  },
  {
   "cell_type": "code",
   "execution_count": 39,
   "metadata": {},
   "outputs": [],
   "source": [
    "# Make predictions\n",
    "y_pred = polynomial_function(X_data.T, *params)\n",
    "y_pred"
   ]
  },
  {
   "cell_type": "code",
   "execution_count": 43,
   "metadata": {},
   "outputs": [
    {
     "name": "stdout",
     "output_type": "stream",
     "text": [
      "Coefficients: [-3.80221468e-01  2.20071532e+04]\n",
      "Intercept: 766.2867575285063\n",
      "R-squared: 0.06450829686041737\n"
     ]
    }
   ],
   "source": [
    "# Calculate the R-squared value\n",
    "ss_total = ((y_data - np.mean(y_data))**2).sum()\n",
    "ss_residual = ((y_data - y_pred)**2).sum()\n",
    "r2 = 1 - (ss_residual / ss_total)\n",
    "\n",
    "# Print the coefficients and R-squared\n",
    "print(\"Coefficients:\", coefficients)\n",
    "print(\"Intercept:\", intercept)\n",
    "print(\"R-squared:\", r2)\n",
    "\n",
    "# Plot the data and the fitted curve (for 1D data only)\n",
    "if X_data.shape[1] == 1:\n",
    "    x_range = np.linspace(min(X_data), max(X_data), 100)\n",
    "    y_fit = polynomial_function(x_range, *params)\n",
    "    plt.scatter(X_data, y_data, label='Data')\n",
    "    plt.plot(x_range, y_fit, 'r', label='Fitted Curve')\n",
    "    plt.xlabel('X')\n",
    "    plt.ylabel('Y')\n",
    "    plt.legend()\n",
    "    plt.show()"
   ]
  },
  {
   "cell_type": "code",
   "execution_count": null,
   "metadata": {},
   "outputs": [],
   "source": []
  }
 ],
 "metadata": {
  "kernelspec": {
   "display_name": "Python [conda env:nafis_env]",
   "language": "python",
   "name": "conda-env-nafis_env-py"
  },
  "language_info": {
   "codemirror_mode": {
    "name": "ipython",
    "version": 3
   },
   "file_extension": ".py",
   "mimetype": "text/x-python",
   "name": "python",
   "nbconvert_exporter": "python",
   "pygments_lexer": "ipython3",
   "version": "3.10.4"
  }
 },
 "nbformat": 4,
 "nbformat_minor": 2
}
